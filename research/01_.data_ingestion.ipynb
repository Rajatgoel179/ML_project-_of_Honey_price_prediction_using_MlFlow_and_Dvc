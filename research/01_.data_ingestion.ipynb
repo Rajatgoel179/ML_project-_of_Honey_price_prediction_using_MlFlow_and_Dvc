{
 "cells": [
  {
   "cell_type": "code",
   "execution_count": 33,
   "metadata": {},
   "outputs": [],
   "source": [
    "import os"
   ]
  },
  {
   "cell_type": "code",
   "execution_count": 34,
   "metadata": {},
   "outputs": [
    {
     "data": {
      "text/plain": [
       "'c:\\\\Users\\\\PUJA\\\\OneDrive\\\\Desktop\\\\Machine_Learning_Project\\\\ML_project-_using_MlFlow\\\\research'"
      ]
     },
     "execution_count": 34,
     "metadata": {},
     "output_type": "execute_result"
    }
   ],
   "source": [
    "pwd"
   ]
  },
  {
   "cell_type": "code",
   "execution_count": 35,
   "metadata": {},
   "outputs": [],
   "source": [
    "os.chdir(\"../\")"
   ]
  },
  {
   "cell_type": "code",
   "execution_count": 36,
   "metadata": {},
   "outputs": [
    {
     "data": {
      "text/plain": [
       "'c:\\\\Users\\\\PUJA\\\\OneDrive\\\\Desktop\\\\Machine_Learning_Project\\\\ML_project-_using_MlFlow'"
      ]
     },
     "execution_count": 36,
     "metadata": {},
     "output_type": "execute_result"
    }
   ],
   "source": [
    "pwd"
   ]
  },
  {
   "cell_type": "code",
   "execution_count": 37,
   "metadata": {},
   "outputs": [],
   "source": [
    "from dataclasses import dataclass\n",
    "from pathlib import Path\n",
    "\n",
    "@dataclass(frozen=True)\n",
    "class DataIngestionConfig:\n",
    "    root_dir: Path\n",
    "    db_host: str\n",
    "    db_user: str\n",
    "    db_password: str\n",
    "    db_name: str\n",
    "    query: str\n"
   ]
  },
  {
   "cell_type": "code",
   "execution_count": 38,
   "metadata": {},
   "outputs": [],
   "source": [
    "\n",
    "from mlProject.constants import *\n",
    "from mlProject.utils.common import read_yaml, create_directories\n"
   ]
  },
  {
   "cell_type": "code",
   "execution_count": 39,
   "metadata": {},
   "outputs": [],
   "source": [
    "# copy this code and paste it into src/mlproject/config/configuration.py\n",
    "\n",
    "class ConfigurationManager:\n",
    "    def __init__(\n",
    "        self,\n",
    "        config_filepath = CONFIG_FILE_PATH,\n",
    "        params_filepath = PARAMS_FILE_PATH,\n",
    "        schema_filepath = SCHEMA_FILE_PATH):\n",
    "\n",
    "        self.config = read_yaml(config_filepath)\n",
    "        self.params = read_yaml(params_filepath)\n",
    "        self.schema = read_yaml(schema_filepath)\n",
    "\n",
    "        create_directories([self.config.artifacts_root])\n",
    "\n",
    "\n",
    "    def get_data_ingestion_config(self) -> DataIngestionConfig:\n",
    "        config = self.config.data_ingestion\n",
    "\n",
    "        create_directories([config.root_dir])\n",
    "\n",
    "        data_ingestion_config = DataIngestionConfig(\n",
    "            root_dir=config.root_dir,\n",
    "            db_host=config.db_host,\n",
    "            db_user=config.db_user,\n",
    "            db_password=config.db_password,\n",
    "            db_name=config.db_name,\n",
    "            query=config.query\n",
    "        )\n",
    "\n",
    "        return data_ingestion_config"
   ]
  },
  {
   "cell_type": "code",
   "execution_count": 40,
   "metadata": {},
   "outputs": [],
   "source": [
    "import os\n",
    "import urllib.request as request\n",
    "import csv\n",
    "from mlProject import logger\n",
    "from mlProject.utils.common import get_size\n",
    "import pymysql\n"
   ]
  },
  {
   "cell_type": "code",
   "execution_count": null,
   "metadata": {},
   "outputs": [],
   "source": []
  },
  {
   "cell_type": "code",
   "execution_count": 41,
   "metadata": {},
   "outputs": [],
   "source": [
    "# src/mlProject/DataIngestionModule/data_ingestion.py\n",
    "\n",
    "class DataIngestion:\n",
    "    def __init__(self, config: DataIngestionConfig):\n",
    "        self.config = config\n",
    "\n",
    "    def fetch_data_from_sql(self):\n",
    "        try:\n",
    "            # Connect to the MySQL database\n",
    "            with pymysql.connect(\n",
    "                host=self.config.db_host,\n",
    "                user=self.config.db_user,\n",
    "                password=self.config.db_password,\n",
    "                database=self.config.db_name,\n",
    "                charset='utf8mb4',\n",
    "                cursorclass=pymysql.cursors.DictCursor\n",
    "            ) as conn:\n",
    "                cursor = conn.cursor()\n",
    "                cursor.execute(self.config.query)\n",
    "                data = cursor.fetchall()\n",
    "                logger.info(f\"Data fetched successfully from MySQL database.\")\n",
    "                return data\n",
    "        except Exception as e:\n",
    "            logger.error(f\"Error fetching data from MySQL database: {str(e)}\")\n",
    "            raise\n",
    "    \n",
    "    \n",
    "    \n",
    "    def save_data_to_csv(self, data):\n",
    "        try:\n",
    "            output_file_path = Path(self.config.root_dir) / \"output_data.csv\"\n",
    "            # Ensure the parent directory exists\n",
    "            os.makedirs(output_file_path.parent, exist_ok=True)\n",
    "\n",
    "            with open(output_file_path, mode='w', newline='') as csv_file:\n",
    "                fieldnames = data[0].keys() if data else []\n",
    "                writer = csv.DictWriter(csv_file, fieldnames=fieldnames)\n",
    "\n",
    "                # Write header\n",
    "                writer.writeheader()\n",
    "\n",
    "                # Write data\n",
    "                writer.writerows(data)\n",
    "\n",
    "                logger.info(f\"Data saved to CSV file: {output_file_path}\")\n",
    "        except Exception as e:\n",
    "            logger.error(f\"Error saving data to CSV file: {str(e)}\")\n",
    "            raise\n",
    "        \n",
    "    \n",
    "    def process_data(self, data):\n",
    "        self.save_data_to_csv(data)\n",
    "        # Add any additional processing logic here\n",
    "\n",
    "    def ingest_data(self):\n",
    "        data = self.fetch_data_from_sql()\n",
    "        self.process_data(data)\n"
   ]
  },
  {
   "cell_type": "code",
   "execution_count": 42,
   "metadata": {},
   "outputs": [
    {
     "name": "stdout",
     "output_type": "stream",
     "text": [
      "[2024-01-10 17:33:06,882: INFO: common: yaml file: config\\config.yaml loaded successfully]\n",
      "[2024-01-10 17:33:06,890: INFO: common: yaml file: params.yaml loaded successfully]\n",
      "[2024-01-10 17:33:06,911: INFO: common: yaml file: schema.yaml loaded successfully]\n",
      "[2024-01-10 17:33:06,919: INFO: common: created directory at: artifacts]\n",
      "[2024-01-10 17:33:06,920: INFO: common: created directory at: artifacts/data_ingestion]\n"
     ]
    },
    {
     "name": "stdout",
     "output_type": "stream",
     "text": [
      "[2024-01-10 17:33:07,489: INFO: 1774662623: Data fetched successfully from MySQL database.]\n",
      "[2024-01-10 17:33:07,529: INFO: 1774662623: Data saved to CSV file: artifacts\\data_ingestion\\output_data.csv]\n"
     ]
    }
   ],
   "source": [
    "try:\n",
    "    config = ConfigurationManager()\n",
    "    data_ingestion_config = config.get_data_ingestion_config()\n",
    "    data_ingestion = DataIngestion(config=data_ingestion_config)\n",
    "    # Fetch data from SQL\n",
    "    sql_data = data_ingestion.fetch_data_from_sql()\n",
    "\n",
    "    # Process and ingest data\n",
    "    data_ingestion.process_data(sql_data)\n",
    "\n",
    "except Exception as e:\n",
    "    raise e"
   ]
  },
  {
   "cell_type": "code",
   "execution_count": null,
   "metadata": {},
   "outputs": [],
   "source": []
  }
 ],
 "metadata": {
  "kernelspec": {
   "display_name": "Python 3 (ipykernel)",
   "language": "python",
   "name": "python3"
  }
 },
 "nbformat": 4,
 "nbformat_minor": 2
}
